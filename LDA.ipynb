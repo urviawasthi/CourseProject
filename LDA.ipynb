{
 "cells": [
  {
   "cell_type": "code",
   "execution_count": 1,
   "metadata": {},
   "outputs": [],
   "source": [
    "# we are finding the points of topic segmentation"
   ]
  },
  {
   "cell_type": "code",
   "execution_count": 1,
   "metadata": {},
   "outputs": [],
   "source": [
    "transcript = \"[SOUND] This lecture is a overview of text retrieval methods. In the previous lecture, we introduced the problem of text retrieval. We explained that the main problem is the design of ranking function to rank documents for a query. In this lecture, we will give an overview of different ways of designing this ranking function. So the problem is the following. We have a query that has a sequence of words and the document that's also a sequence of words. And we hope to define a function f that can compute a score based on the query and document. So the main challenge you hear is with design a good ranking function that can rank all the relevant documents on top of all the non-relevant ones. Clearly, this means our function must be able to measure the likelihood that a document d is relevant to a query q. That also means we have to have some way to define relevance. In particular, in order to implement the program to do that, we have to have a computational definition of relevance. And we achieve this goal by designing a retrieval model, which gives us a formalization of relevance. Now, over many decades, researchers have designed many different kinds of retrieval models. And they fall into different categories. First, one family of the models are based on the similarity idea. Basically, we assume that if a document is more similar to the query than another document is, then we will say the first document is more relevant than the second one. So in this case, the ranking function is defined as the similarity between the query and the document. One well known example in this case is vector space model, which we will cover more in detail later in the lecture. A second kind of models are called probabilistic models. In this family of models, we follow a very different strategy, where we assume that queries and documents are all observations from random variables. And we assume there is a binary random variable called R here to indicate whether a document is relevant to a query. We then define the score of document with respect to a query as a probability that this random variable R is equal to 1, given a particular document query. There are different cases of such a general idea. One is classic probabilistic model, another is language model, yet another is divergence from randomness model. In a later lecture, we will talk more about one case, which is language model. A third kind of model are based on probabilistic inference. So here the idea is to associate uncertainty to inference rules, and we can then quantify the probability that we can show that the query follows from the document. Finally, there is also a family of models that are using axiomatic thinking. Here, an idea is to define a set of constraints that we hope a good retrieval function to satisfy. So in this case, the problem is to seek a good ranking function that can satisfy all the desired constraints. Interestingly, although these different models are based on different thinking, in the end, the retrieval function tends to be very similar. And these functions tend to also involve similar variables. So now let's take a look at the common form of a state of the art retrieval model and to examine some of the common ideas used in all these models. First, these models are all based on the assumption of using bag of words to represent text, and we explained this in the natural language processing lecture. Bag of words representation remains the main representation used in all the search engines. So with this assumption, the score of a query, like a presidential campaign news with respect to a document of d here, would be based on scores computed based on each individual word. And that means the score would depend on the score of each word, such as presidential, campaign, and news. Here, we can see there are three different components, each corresponding to how well the document matches each of the query words. Inside of these functions, we see a number of heuristics used. So for example, one factor that affects the function d here is how many times does the word presidential occur in the document? This is called a term frequency, or TF. We might also denote as c of presidential and d. In general, if the word occurs more frequently in the document, then the value of this function would be larger. Another factor is, how long is the document? And this is to use the document length for scoring. In general, if a term occurs in a long document many times, it's not as significant as if it occurred the same number of times in a short document. Because in a long document, any term is expected to occur more frequently. Finally, there is this factor called document frequency. That is, we also want to look at how often presidential occurs in the entire collection, and we call this document frequency, or df of presidential. And in some other models, we might also use a probability to characterize this information. So here, I show the probability of presidential in the collection. So all these are trying to characterize the popularity of the term in the collection. In general, matching a rare term in the collection is contributing more to the overall score than matching up common term. So this captures some of the main ideas used in pretty much older state of the art original models. So now, a natural question is, which model works the best? Now it turns out that many models work equally well. So here are a list of the four major models that are generally regarded as a state of the art original models, pivoted length normalization, BM25, query likelihood, PL2. When optimized, these models tend to perform similarly. And this was discussed in detail in this reference at the end of this lecture. Among all these, BM25 is probably the most popular. It's most likely that this has been used in virtually all the search engines, and you will also often see this method discussed in research papers. And we'll talk more about this method later in some other lectures. So, to summarize, the main points made in this lecture are first the design of a good ranking function pre-requires a computational definition of relevance, and we achieve this goal by designing appropriate retrieval model. Second, many models are equally effective, but we don't have a single winner yet. Researchers are still active and working on this problem, trying to find a truly optimal retrieval model. Finally, the state of the art ranking functions tend to rely on the following ideas. First, bag of words representation. Second, TF and document frequency of words. Such information is used in the weighting function to determine the overall contribution of matching a word and document length. These are often combined in interesting ways, and we'll discuss how exactly they are combined to rank documents in the lectures later. There are two suggested additional readings if you have time. The first is a paper where you can find the detailed discussion and comparison of multiple state of the art models. The second is a book with a chapter that gives a broad review of different retrieval models. [MUSIC]\""
   ]
  },
  {
   "cell_type": "code",
   "execution_count": 2,
   "metadata": {},
   "outputs": [
    {
     "name": "stdout",
     "output_type": "stream",
     "text": [
      "[SOUND] This lecture is a overview of text retrieval methods. In the previous lecture, we introduced the problem of text retrieval. We explained that the main problem is the design of ranking function to rank documents for a query. In this lecture, we will give an overview of different ways of designing this ranking function. So the problem is the following. We have a query that has a sequence of words and the document that's also a sequence of words. And we hope to define a function f that can compute a score based on the query and document. So the main challenge you hear is with design a good ranking function that can rank all the relevant documents on top of all the non-relevant ones. Clearly, this means our function must be able to measure the likelihood that a document d is relevant to a query q. That also means we have to have some way to define relevance. In particular, in order to implement the program to do that, we have to have a computational definition of relevance. And we achieve this goal by designing a retrieval model, which gives us a formalization of relevance. Now, over many decades, researchers have designed many different kinds of retrieval models. And they fall into different categories. First, one family of the models are based on the similarity idea. Basically, we assume that if a document is more similar to the query than another document is, then we will say the first document is more relevant than the second one. So in this case, the ranking function is defined as the similarity between the query and the document. One well known example in this case is vector space model, which we will cover more in detail later in the lecture. A second kind of models are called probabilistic models. In this family of models, we follow a very different strategy, where we assume that queries and documents are all observations from random variables. And we assume there is a binary random variable called R here to indicate whether a document is relevant to a query. We then define the score of document with respect to a query as a probability that this random variable R is equal to 1, given a particular document query. There are different cases of such a general idea. One is classic probabilistic model, another is language model, yet another is divergence from randomness model. In a later lecture, we will talk more about one case, which is language model. A third kind of model are based on probabilistic inference. So here the idea is to associate uncertainty to inference rules, and we can then quantify the probability that we can show that the query follows from the document. Finally, there is also a family of models that are using axiomatic thinking. Here, an idea is to define a set of constraints that we hope a good retrieval function to satisfy. So in this case, the problem is to seek a good ranking function that can satisfy all the desired constraints. Interestingly, although these different models are based on different thinking, in the end, the retrieval function tends to be very similar. And these functions tend to also involve similar variables. So now let's take a look at the common form of a state of the art retrieval model and to examine some of the common ideas used in all these models. First, these models are all based on the assumption of using bag of words to represent text, and we explained this in the natural language processing lecture. Bag of words representation remains the main representation used in all the search engines. So with this assumption, the score of a query, like a presidential campaign news with respect to a document of d here, would be based on scores computed based on each individual word. And that means the score would depend on the score of each word, such as presidential, campaign, and news. Here, we can see there are three different components, each corresponding to how well the document matches each of the query words. Inside of these functions, we see a number of heuristics used. So for example, one factor that affects the function d here is how many times does the word presidential occur in the document? This is called a term frequency, or TF. We might also denote as c of presidential and d. In general, if the word occurs more frequently in the document, then the value of this function would be larger. Another factor is, how long is the document? And this is to use the document length for scoring. In general, if a term occurs in a long document many times, it's not as significant as if it occurred the same number of times in a short document. Because in a long document, any term is expected to occur more frequently. Finally, there is this factor called document frequency. That is, we also want to look at how often presidential occurs in the entire collection, and we call this document frequency, or df of presidential. And in some other models, we might also use a probability to characterize this information. So here, I show the probability of presidential in the collection. So all these are trying to characterize the popularity of the term in the collection. In general, matching a rare term in the collection is contributing more to the overall score than matching up common term. So this captures some of the main ideas used in pretty much older state of the art original models. So now, a natural question is, which model works the best? Now it turns out that many models work equally well. So here are a list of the four major models that are generally regarded as a state of the art original models, pivoted length normalization, BM25, query likelihood, PL2. When optimized, these models tend to perform similarly. And this was discussed in detail in this reference at the end of this lecture. Among all these, BM25 is probably the most popular. It's most likely that this has been used in virtually all the search engines, and you will also often see this method discussed in research papers. And we'll talk more about this method later in some other lectures. So, to summarize, the main points made in this lecture are first the design of a good ranking function pre-requires a computational definition of relevance, and we achieve this goal by designing appropriate retrieval model. Second, many models are equally effective, but we don't have a single winner yet. Researchers are still active and working on this problem, trying to find a truly optimal retrieval model. Finally, the state of the art ranking functions tend to rely on the following ideas. First, bag of words representation. Second, TF and document frequency of words. Such information is used in the weighting function to determine the overall contribution of matching a word and document length. These are often combined in interesting ways, and we'll discuss how exactly they are combined to rank documents in the lectures later. There are two suggested additional readings if you have time. The first is a paper where you can find the detailed discussion and comparison of multiple state of the art models. The second is a book with a chapter that gives a broad review of different retrieval models. [MUSIC]\n"
     ]
    }
   ],
   "source": [
    "print(transcript)"
   ]
  },
  {
   "cell_type": "code",
   "execution_count": 3,
   "metadata": {},
   "outputs": [],
   "source": [
    "import gensim\n",
    "from gensim.utils import simple_preprocess\n",
    "from gensim.parsing.preprocessing import STOPWORDS\n",
    "from nltk.stem import WordNetLemmatizer, SnowballStemmer\n",
    "from nltk.stem.porter import *\n",
    "import numpy as np\n",
    "np.random.seed(400)"
   ]
  },
  {
   "cell_type": "code",
   "execution_count": 4,
   "metadata": {},
   "outputs": [],
   "source": [
    "# LDA Code acquired from https://github.com/priya-dwivedi/Deep-Learning/blob/master/topic_modeling/LDA_Newsgroup.ipynb\n",
    "\n",
    "'''\n",
    "Write a function to perform the pre processing steps on the entire dataset\n",
    "'''\n",
    "stemmer = SnowballStemmer(\"english\")\n",
    "\n",
    "def lemmatize_stemming(text):\n",
    "    return stemmer.stem(WordNetLemmatizer().lemmatize(text, pos='v'))\n",
    "\n",
    "# Tokenize and lemmatize\n",
    "def preprocess(text):\n",
    "    result=[]\n",
    "    for token in gensim.utils.simple_preprocess(text) :\n",
    "        if token not in gensim.parsing.preprocessing.STOPWORDS and len(token) > 3:\n",
    "            result.append(lemmatize_stemming(token))\n",
    "            \n",
    "    return result"
   ]
  },
  {
   "cell_type": "code",
   "execution_count": 5,
   "metadata": {},
   "outputs": [],
   "source": [
    "processed_docs = []\n",
    "processed_docs.append(preprocess(transcript))"
   ]
  },
  {
   "cell_type": "code",
   "execution_count": 6,
   "metadata": {},
   "outputs": [],
   "source": [
    "'''\n",
    "Create a dictionary from 'processed_docs' containing the number of times a word appears \n",
    "in the training set using gensim.corpora.Dictionary and call it 'dictionary'\n",
    "'''\n",
    "dictionary = gensim.corpora.Dictionary(processed_docs)"
   ]
  },
  {
   "cell_type": "code",
   "execution_count": 7,
   "metadata": {},
   "outputs": [
    {
     "name": "stdout",
     "output_type": "stream",
     "text": [
      "0 abl\n",
      "1 achiev\n",
      "2 activ\n",
      "3 addit\n",
      "4 affect\n",
      "5 appropri\n",
      "6 associ\n",
      "7 assum\n",
      "8 assumpt\n",
      "9 axiomat\n",
      "10 base\n"
     ]
    }
   ],
   "source": [
    "'''\n",
    "Checking dictionary created\n",
    "'''\n",
    "count = 0\n",
    "for k, v in dictionary.iteritems():\n",
    "    print(k, v)\n",
    "    count += 1\n",
    "    if count > 10:\n",
    "        break"
   ]
  },
  {
   "cell_type": "code",
   "execution_count": 8,
   "metadata": {},
   "outputs": [
    {
     "name": "stdout",
     "output_type": "stream",
     "text": [
      "[[(0, 1), (1, 2), (2, 1), (3, 1), (4, 1), (5, 1), (6, 1), (7, 3), (8, 2), (9, 1), (10, 7), (11, 1), (12, 1), (13, 1), (14, 1), (15, 1), (16, 4), (17, 2), (18, 1), (19, 5), (20, 1), (21, 1), (22, 1), (23, 2), (24, 1), (25, 1), (26, 4), (27, 2), (28, 3), (29, 1), (30, 1), (31, 4), (32, 2), (33, 2), (34, 1), (35, 1), (36, 1), (37, 5), (38, 2), (39, 1), (40, 1), (41, 7), (42, 1), (43, 1), (44, 1), (45, 9), (46, 4), (47, 1), (48, 28), (49, 1), (50, 2), (51, 1), (52, 3), (53, 1), (54, 1), (55, 2), (56, 1), (57, 2), (58, 3), (59, 1), (60, 3), (61, 3), (62, 4), (63, 1), (64, 1), (65, 4), (66, 2), (67, 16), (68, 5), (69, 3), (70, 2), (71, 4), (72, 1), (73, 1), (74, 2), (75, 7), (76, 1), (77, 1), (78, 1), (79, 2), (80, 2), (81, 1), (82, 2), (83, 1), (84, 1), (85, 3), (86, 1), (87, 3), (88, 1), (89, 4), (90, 10), (91, 3), (92, 2), (93, 2), (94, 1), (95, 3), (96, 2), (97, 5), (98, 1), (99, 4), (100, 3), (101, 1), (102, 3), (103, 29), (104, 1), (105, 1), (106, 2), (107, 2), (108, 1), (109, 2), (110, 1), (111, 6), (112, 1), (113, 1), (114, 2), (115, 1), (116, 2), (117, 2), (118, 2), (119, 2), (120, 2), (121, 1), (122, 1), (123, 1), (124, 2), (125, 7), (126, 1), (127, 1), (128, 3), (129, 5), (130, 5), (131, 1), (132, 1), (133, 1), (134, 14), (135, 1), (136, 4), (137, 10), (138, 1), (139, 1), (140, 1), (141, 1), (142, 9), (143, 1), (144, 1), (145, 1), (146, 3), (147, 1), (148, 3), (149, 2), (150, 10), (151, 1), (152, 1), (153, 2), (154, 8), (155, 2), (156, 5), (157, 1), (158, 2), (159, 1), (160, 1), (161, 6), (162, 1), (163, 1), (164, 1), (165, 5), (166, 1), (167, 1), (168, 1), (169, 2), (170, 4), (171, 6), (172, 3), (173, 2), (174, 4), (175, 2), (176, 1), (177, 1), (178, 1), (179, 1), (180, 4), (181, 1), (182, 1), (183, 1), (184, 2), (185, 1), (186, 1), (187, 12), (188, 3)]]\n"
     ]
    }
   ],
   "source": [
    "'''\n",
    "Create the Bag-of-words model for each document i.e for each document we create a dictionary reporting how many\n",
    "words and how many times those words appear. Save this to 'bow_corpus'\n",
    "'''\n",
    "bow_corpus = [dictionary.doc2bow(doc) for doc in processed_docs]\n",
    "print(bow_corpus)"
   ]
  },
  {
   "cell_type": "code",
   "execution_count": 9,
   "metadata": {},
   "outputs": [
    {
     "name": "stdout",
     "output_type": "stream",
     "text": [
      "Word 0 (\"abl\") appears 1 time.\n",
      "Word 1 (\"achiev\") appears 2 time.\n",
      "Word 2 (\"activ\") appears 1 time.\n",
      "Word 3 (\"addit\") appears 1 time.\n",
      "Word 4 (\"affect\") appears 1 time.\n",
      "Word 5 (\"appropri\") appears 1 time.\n",
      "Word 6 (\"associ\") appears 1 time.\n",
      "Word 7 (\"assum\") appears 3 time.\n",
      "Word 8 (\"assumpt\") appears 2 time.\n",
      "Word 9 (\"axiomat\") appears 1 time.\n",
      "Word 10 (\"base\") appears 7 time.\n",
      "Word 11 (\"basic\") appears 1 time.\n",
      "Word 12 (\"best\") appears 1 time.\n",
      "Word 13 (\"binari\") appears 1 time.\n",
      "Word 14 (\"book\") appears 1 time.\n",
      "Word 15 (\"broad\") appears 1 time.\n",
      "Word 16 (\"call\") appears 4 time.\n",
      "Word 17 (\"campaign\") appears 2 time.\n",
      "Word 18 (\"captur\") appears 1 time.\n",
      "Word 19 (\"case\") appears 5 time.\n",
      "Word 20 (\"categori\") appears 1 time.\n",
      "Word 21 (\"challeng\") appears 1 time.\n",
      "Word 22 (\"chapter\") appears 1 time.\n",
      "Word 23 (\"character\") appears 2 time.\n",
      "Word 24 (\"classic\") appears 1 time.\n",
      "Word 25 (\"clear\") appears 1 time.\n",
      "Word 26 (\"collect\") appears 4 time.\n",
      "Word 27 (\"combin\") appears 2 time.\n",
      "Word 28 (\"common\") appears 3 time.\n",
      "Word 29 (\"comparison\") appears 1 time.\n",
      "Word 30 (\"compon\") appears 1 time.\n",
      "Word 31 (\"comput\") appears 4 time.\n",
      "Word 32 (\"constraint\") appears 2 time.\n",
      "Word 33 (\"contribut\") appears 2 time.\n",
      "Word 34 (\"correspond\") appears 1 time.\n",
      "Word 35 (\"cover\") appears 1 time.\n",
      "Word 36 (\"decad\") appears 1 time.\n",
      "Word 37 (\"defin\") appears 5 time.\n",
      "Word 38 (\"definit\") appears 2 time.\n",
      "Word 39 (\"denot\") appears 1 time.\n",
      "Word 40 (\"depend\") appears 1 time.\n",
      "Word 41 (\"design\") appears 7 time.\n",
      "Word 42 (\"desir\") appears 1 time.\n",
      "Word 43 (\"detail\") appears 1 time.\n",
      "Word 44 (\"determin\") appears 1 time.\n",
      "Word 45 (\"differ\") appears 9 time.\n",
      "Word 46 (\"discuss\") appears 4 time.\n",
      "Word 47 (\"diverg\") appears 1 time.\n",
      "Word 48 (\"document\") appears 28 time.\n",
      "Word 49 (\"effect\") appears 1 time.\n",
      "Word 50 (\"engin\") appears 2 time.\n",
      "Word 51 (\"entir\") appears 1 time.\n",
      "Word 52 (\"equal\") appears 3 time.\n",
      "Word 53 (\"exact\") appears 1 time.\n",
      "Word 54 (\"examin\") appears 1 time.\n",
      "Word 55 (\"exampl\") appears 2 time.\n",
      "Word 56 (\"expect\") appears 1 time.\n",
      "Word 57 (\"explain\") appears 2 time.\n",
      "Word 58 (\"factor\") appears 3 time.\n",
      "Word 59 (\"fall\") appears 1 time.\n",
      "Word 60 (\"famili\") appears 3 time.\n",
      "Word 61 (\"final\") appears 3 time.\n",
      "Word 62 (\"follow\") appears 4 time.\n",
      "Word 63 (\"form\") appears 1 time.\n",
      "Word 64 (\"formal\") appears 1 time.\n",
      "Word 65 (\"frequenc\") appears 4 time.\n",
      "Word 66 (\"frequent\") appears 2 time.\n",
      "Word 67 (\"function\") appears 16 time.\n",
      "Word 68 (\"general\") appears 5 time.\n",
      "Word 69 (\"give\") appears 3 time.\n",
      "Word 70 (\"goal\") appears 2 time.\n",
      "Word 71 (\"good\") appears 4 time.\n",
      "Word 72 (\"hear\") appears 1 time.\n",
      "Word 73 (\"heurist\") appears 1 time.\n",
      "Word 74 (\"hope\") appears 2 time.\n",
      "Word 75 (\"idea\") appears 7 time.\n",
      "Word 76 (\"implement\") appears 1 time.\n",
      "Word 77 (\"indic\") appears 1 time.\n",
      "Word 78 (\"individu\") appears 1 time.\n",
      "Word 79 (\"infer\") appears 2 time.\n",
      "Word 80 (\"inform\") appears 2 time.\n",
      "Word 81 (\"insid\") appears 1 time.\n",
      "Word 82 (\"interest\") appears 2 time.\n",
      "Word 83 (\"introduc\") appears 1 time.\n",
      "Word 84 (\"involv\") appears 1 time.\n",
      "Word 85 (\"kind\") appears 3 time.\n",
      "Word 86 (\"know\") appears 1 time.\n",
      "Word 87 (\"languag\") appears 3 time.\n",
      "Word 88 (\"larger\") appears 1 time.\n",
      "Word 89 (\"later\") appears 4 time.\n",
      "Word 90 (\"lectur\") appears 10 time.\n",
      "Word 91 (\"length\") appears 3 time.\n",
      "Word 92 (\"like\") appears 2 time.\n",
      "Word 93 (\"likelihood\") appears 2 time.\n",
      "Word 94 (\"list\") appears 1 time.\n",
      "Word 95 (\"long\") appears 3 time.\n",
      "Word 96 (\"look\") appears 2 time.\n",
      "Word 97 (\"main\") appears 5 time.\n",
      "Word 98 (\"major\") appears 1 time.\n",
      "Word 99 (\"match\") appears 4 time.\n",
      "Word 100 (\"mean\") appears 3 time.\n",
      "Word 101 (\"measur\") appears 1 time.\n",
      "Word 102 (\"method\") appears 3 time.\n",
      "Word 103 (\"model\") appears 29 time.\n",
      "Word 104 (\"multipl\") appears 1 time.\n",
      "Word 105 (\"music\") appears 1 time.\n",
      "Word 106 (\"natur\") appears 2 time.\n",
      "Word 107 (\"news\") appears 2 time.\n",
      "Word 108 (\"normal\") appears 1 time.\n",
      "Word 109 (\"number\") appears 2 time.\n",
      "Word 110 (\"observ\") appears 1 time.\n",
      "Word 111 (\"occur\") appears 6 time.\n",
      "Word 112 (\"older\") appears 1 time.\n",
      "Word 113 (\"one\") appears 1 time.\n",
      "Word 114 (\"optim\") appears 2 time.\n",
      "Word 115 (\"order\") appears 1 time.\n",
      "Word 116 (\"origin\") appears 2 time.\n",
      "Word 117 (\"overal\") appears 2 time.\n",
      "Word 118 (\"overview\") appears 2 time.\n",
      "Word 119 (\"paper\") appears 2 time.\n",
      "Word 120 (\"particular\") appears 2 time.\n",
      "Word 121 (\"perform\") appears 1 time.\n",
      "Word 122 (\"pivot\") appears 1 time.\n",
      "Word 123 (\"point\") appears 1 time.\n",
      "Word 124 (\"popular\") appears 2 time.\n",
      "Word 125 (\"presidenti\") appears 7 time.\n",
      "Word 126 (\"pretti\") appears 1 time.\n",
      "Word 127 (\"previous\") appears 1 time.\n",
      "Word 128 (\"probabilist\") appears 3 time.\n",
      "Word 129 (\"probabl\") appears 5 time.\n",
      "Word 130 (\"problem\") appears 5 time.\n",
      "Word 131 (\"process\") appears 1 time.\n",
      "Word 132 (\"program\") appears 1 time.\n",
      "Word 133 (\"quantifi\") appears 1 time.\n",
      "Word 134 (\"queri\") appears 14 time.\n",
      "Word 135 (\"question\") appears 1 time.\n",
      "Word 136 (\"random\") appears 4 time.\n",
      "Word 137 (\"rank\") appears 10 time.\n",
      "Word 138 (\"rare\") appears 1 time.\n",
      "Word 139 (\"read\") appears 1 time.\n",
      "Word 140 (\"refer\") appears 1 time.\n",
      "Word 141 (\"regard\") appears 1 time.\n",
      "Word 142 (\"relev\") appears 9 time.\n",
      "Word 143 (\"reli\") appears 1 time.\n",
      "Word 144 (\"remain\") appears 1 time.\n",
      "Word 145 (\"repres\") appears 1 time.\n",
      "Word 146 (\"represent\") appears 3 time.\n",
      "Word 147 (\"requir\") appears 1 time.\n",
      "Word 148 (\"research\") appears 3 time.\n",
      "Word 149 (\"respect\") appears 2 time.\n",
      "Word 150 (\"retriev\") appears 10 time.\n",
      "Word 151 (\"review\") appears 1 time.\n",
      "Word 152 (\"rule\") appears 1 time.\n",
      "Word 153 (\"satisfi\") appears 2 time.\n",
      "Word 154 (\"score\") appears 8 time.\n",
      "Word 155 (\"search\") appears 2 time.\n",
      "Word 156 (\"second\") appears 5 time.\n",
      "Word 157 (\"seek\") appears 1 time.\n",
      "Word 158 (\"sequenc\") appears 2 time.\n",
      "Word 159 (\"short\") appears 1 time.\n",
      "Word 160 (\"signific\") appears 1 time.\n",
      "Word 161 (\"similar\") appears 6 time.\n",
      "Word 162 (\"singl\") appears 1 time.\n",
      "Word 163 (\"sound\") appears 1 time.\n",
      "Word 164 (\"space\") appears 1 time.\n",
      "Word 165 (\"state\") appears 5 time.\n",
      "Word 166 (\"strategi\") appears 1 time.\n",
      "Word 167 (\"suggest\") appears 1 time.\n",
      "Word 168 (\"summar\") appears 1 time.\n",
      "Word 169 (\"talk\") appears 2 time.\n",
      "Word 170 (\"tend\") appears 4 time.\n",
      "Word 171 (\"term\") appears 6 time.\n",
      "Word 172 (\"text\") appears 3 time.\n",
      "Word 173 (\"think\") appears 2 time.\n",
      "Word 174 (\"time\") appears 4 time.\n",
      "Word 175 (\"tri\") appears 2 time.\n",
      "Word 176 (\"truli\") appears 1 time.\n",
      "Word 177 (\"turn\") appears 1 time.\n",
      "Word 178 (\"uncertainti\") appears 1 time.\n",
      "Word 179 (\"valu\") appears 1 time.\n",
      "Word 180 (\"variabl\") appears 4 time.\n",
      "Word 181 (\"vector\") appears 1 time.\n",
      "Word 182 (\"virtual\") appears 1 time.\n",
      "Word 183 (\"want\") appears 1 time.\n",
      "Word 184 (\"way\") appears 2 time.\n",
      "Word 185 (\"weight\") appears 1 time.\n",
      "Word 186 (\"winner\") appears 1 time.\n",
      "Word 187 (\"word\") appears 12 time.\n",
      "Word 188 (\"work\") appears 3 time.\n"
     ]
    }
   ],
   "source": [
    "'''\n",
    "Preview BOW for our sample preprocessed document\n",
    "'''\n",
    "document_num = 0\n",
    "bow_doc_x = bow_corpus[document_num]\n",
    "\n",
    "for i in range(len(bow_doc_x)):\n",
    "    print(\"Word {} (\\\"{}\\\") appears {} time.\".format(bow_doc_x[i][0], \n",
    "                                                     dictionary[bow_doc_x[i][0]], \n",
    "                                                     bow_doc_x[i][1]))"
   ]
  },
  {
   "cell_type": "code",
   "execution_count": 10,
   "metadata": {},
   "outputs": [],
   "source": [
    "\n",
    "# LDA mono-core -- fallback code in case LdaMulticore throws an error on your machine\n",
    "# lda_model = gensim.models.LdaModel(bow_corpus, \n",
    "#                                    num_topics = 10, \n",
    "#                                    id2word = dictionary,                                    \n",
    "#                                    passes = 50)\n",
    "\n",
    "# LDA multicore \n",
    "'''\n",
    "Train your lda model using gensim.models.LdaMulticore and save it to 'lda_model'\n",
    "'''\n",
    "# TODO\n",
    "lda_model =  gensim.models.LdaMulticore(bow_corpus, \n",
    "                                   num_topics = 1, \n",
    "                                   id2word = dictionary,                                    \n",
    "                                   passes = 3,\n",
    "                                   workers = 2)"
   ]
  },
  {
   "cell_type": "code",
   "execution_count": 11,
   "metadata": {},
   "outputs": [
    {
     "name": "stdout",
     "output_type": "stream",
     "text": [
      "Topic: 0 \n",
      "Words: 0.042*\"model\" + 0.041*\"document\" + 0.024*\"function\" + 0.021*\"queri\" + 0.018*\"word\" + 0.016*\"retriev\" + 0.016*\"rank\" + 0.016*\"lectur\" + 0.014*\"relev\" + 0.014*\"differ\"\n",
      "\n",
      "\n"
     ]
    }
   ],
   "source": [
    "\n",
    "'''\n",
    "For each topic, we will explore the words occuring in that topic and its relative weight\n",
    "'''\n",
    "for idx, topic in lda_model.print_topics(-1):\n",
    "    print(\"Topic: {} \\nWords: {}\".format(idx, topic ))\n",
    "    print(\"\\n\")"
   ]
  },
  {
   "cell_type": "code",
   "execution_count": null,
   "metadata": {},
   "outputs": [],
   "source": []
  },
  {
   "cell_type": "code",
   "execution_count": null,
   "metadata": {},
   "outputs": [],
   "source": []
  },
  {
   "cell_type": "code",
   "execution_count": null,
   "metadata": {},
   "outputs": [],
   "source": []
  },
  {
   "cell_type": "code",
   "execution_count": null,
   "metadata": {},
   "outputs": [],
   "source": []
  },
  {
   "cell_type": "code",
   "execution_count": null,
   "metadata": {},
   "outputs": [],
   "source": []
  },
  {
   "cell_type": "code",
   "execution_count": null,
   "metadata": {},
   "outputs": [],
   "source": []
  },
  {
   "cell_type": "code",
   "execution_count": 178,
   "metadata": {},
   "outputs": [
    {
     "name": "stdout",
     "output_type": "stream",
     "text": [
      "Collecting textsplit\n",
      "  Downloading textsplit-0.5-py3-none-any.whl (9.6 kB)\n",
      "Requirement already satisfied: numpy>=1.13.1 in c:\\users\\urvi\\anaconda3\\lib\\site-packages (from textsplit) (1.19.2)\n",
      "Requirement already satisfied: nose>=1.3.7 in c:\\users\\urvi\\anaconda3\\lib\\site-packages (from textsplit) (1.3.7)\n",
      "Installing collected packages: textsplit\n",
      "Successfully installed textsplit-0.5\n",
      "Note: you may need to restart the kernel to use updated packages.\n"
     ]
    }
   ],
   "source": [
    "pip install textsplit\n"
   ]
  },
  {
   "cell_type": "code",
   "execution_count": 196,
   "metadata": {},
   "outputs": [],
   "source": [
    "from sklearn.feature_extraction.text import TfidfVectorizer"
   ]
  },
  {
   "cell_type": "code",
   "execution_count": 197,
   "metadata": {},
   "outputs": [],
   "source": [
    "corpus = [\"I'd like an apple\", \n",
    "\"An apple a day keeps the doctor away\", \n",
    "\"Never compare an apple to an orange\", \n",
    "\"I prefer scikit-learn to Orange\", \n",
    " \"The scikit-learn docs are Orange and Blue\"]   \n",
    "\n",
    "vect = TfidfVectorizer(min_df=1, stop_words=\"english\")                                                                                                                                                                                                   \n",
    "tfidf = vect.fit_transform(corpus)                                                                                                                                                                                                                       \n",
    "pairwise_similarity = tfidf * tfidf.T"
   ]
  },
  {
   "cell_type": "code",
   "execution_count": 199,
   "metadata": {},
   "outputs": [
    {
     "name": "stdout",
     "output_type": "stream",
     "text": [
      "[[1.         0.17668795 0.27056873 0.         0.        ]\n",
      " [0.17668795 1.         0.15439436 0.         0.        ]\n",
      " [0.27056873 0.15439436 1.         0.19635649 0.16815247]\n",
      " [0.         0.         0.19635649 1.         0.54499756]\n",
      " [0.         0.         0.16815247 0.54499756 1.        ]]\n"
     ]
    }
   ],
   "source": [
    "print(pairwise_similarity.A)"
   ]
  },
  {
   "cell_type": "code",
   "execution_count": null,
   "metadata": {},
   "outputs": [],
   "source": []
  }
 ],
 "metadata": {
  "interpreter": {
   "hash": "84aa48028b24495a3e42bbc90c220c1341682928ad84ac641255d98e436c9f34"
  },
  "kernelspec": {
   "display_name": "Python 3.8.5 64-bit ('base': conda)",
   "name": "python3"
  },
  "language_info": {
   "codemirror_mode": {
    "name": "ipython",
    "version": 3
   },
   "file_extension": ".py",
   "mimetype": "text/x-python",
   "name": "python",
   "nbconvert_exporter": "python",
   "pygments_lexer": "ipython3",
   "version": "3.8.5"
  }
 },
 "nbformat": 4,
 "nbformat_minor": 4
}
